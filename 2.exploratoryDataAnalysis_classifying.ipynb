{
 "cells": [
  {
   "cell_type": "markdown",
   "metadata": {},
   "source": [
    "<div style=\"text-align: center;\">\n",
    "    <h2>Importing Libraries</h2>\n",
    "</div>"
   ]
  },
  {
   "cell_type": "code",
   "execution_count": 1,
   "metadata": {},
   "outputs": [],
   "source": [
    "import pandas as pd\n",
    "import matplotlib.pyplot as plt\n",
    "import seaborn as sns\n",
    "from wordcloud import WordCloud\n",
    "%matplotlib inline\n",
    "pd.set_option('display.max_rows', None)\n",
    "import warnings\n",
    "warnings.filterwarnings(\"ignore\")"
   ]
  },
  {
   "cell_type": "markdown",
   "metadata": {},
   "source": [
    "<div style=\"text-align: center;\">\n",
    "    <h2>Loading the Dataset</h2>\n",
    "</div>"
   ]
  },
  {
   "cell_type": "code",
   "execution_count": 2,
   "metadata": {},
   "outputs": [],
   "source": [
    "df = pd.read_csv('MN-DS-news-classification.csv')"
   ]
  },
  {
   "cell_type": "markdown",
   "metadata": {},
   "source": [
    "<div style=\"text-align: center;\">\n",
    "    <h2>Initial Data Inspection</h2>\n",
    "</div>"
   ]
  },
  {
   "cell_type": "code",
   "execution_count": 3,
   "metadata": {},
   "outputs": [
    {
     "name": "stdout",
     "output_type": "stream",
     "text": [
      "<class 'pandas.core.frame.DataFrame'>\n",
      "RangeIndex: 10917 entries, 0 to 10916\n",
      "Data columns (total 13 columns):\n",
      " #   Column            Non-Null Count  Dtype \n",
      "---  ------            --------------  ----- \n",
      " 0   data_id           10917 non-null  int64 \n",
      " 1   id                10917 non-null  object\n",
      " 2   date              10917 non-null  object\n",
      " 3   source            10917 non-null  object\n",
      " 4   title             10917 non-null  object\n",
      " 5   content           10917 non-null  object\n",
      " 6   author            7605 non-null   object\n",
      " 7   url               10917 non-null  object\n",
      " 8   published         10917 non-null  object\n",
      " 9   published_utc     10917 non-null  int64 \n",
      " 10  collection_utc    10917 non-null  int64 \n",
      " 11  category_level_1  10917 non-null  object\n",
      " 12  category_level_2  10917 non-null  object\n",
      "dtypes: int64(3), object(10)\n",
      "memory usage: 1.1+ MB\n"
     ]
    }
   ],
   "source": [
    "df.info()"
   ]
  },
  {
   "cell_type": "code",
   "execution_count": 4,
   "metadata": {},
   "outputs": [
    {
     "data": {
      "text/plain": [
       "data_id                0\n",
       "id                     0\n",
       "date                   0\n",
       "source                 0\n",
       "title                  0\n",
       "content                0\n",
       "author              3312\n",
       "url                    0\n",
       "published              0\n",
       "published_utc          0\n",
       "collection_utc         0\n",
       "category_level_1       0\n",
       "category_level_2       0\n",
       "dtype: int64"
      ]
     },
     "execution_count": 4,
     "metadata": {},
     "output_type": "execute_result"
    }
   ],
   "source": [
    "df.isnull().sum()"
   ]
  },
  {
   "cell_type": "code",
   "execution_count": 5,
   "metadata": {},
   "outputs": [
    {
     "data": {
      "text/plain": [
       "data_id                                                          1809\n",
       "id                  abcnews--2019-10-31--Virginia mom charged with...\n",
       "date                                                       2019-10-31\n",
       "source                                                        abcnews\n",
       "title               Virginia mom charged with murder in 2-year-old...\n",
       "content             The Virginia woman whose 2-year-old son was fo...\n",
       "author                                                            NaN\n",
       "url                 https://abcnews.go.com/US/wireStory/virginia-m...\n",
       "published                             Thu, 31 Oct 2019 16:49:56 -0400\n",
       "published_utc                                              1572554996\n",
       "collection_utc                                             1572559512\n",
       "category_level_1                               crime, law and justice\n",
       "category_level_2                                                crime\n",
       "Name: 0, dtype: object"
      ]
     },
     "execution_count": 5,
     "metadata": {},
     "output_type": "execute_result"
    }
   ],
   "source": [
    "df.iloc[0]"
   ]
  },
  {
   "cell_type": "markdown",
   "metadata": {},
   "source": [
    "<div style=\"text-align: center;\">\n",
    "    <h2>Exploring the Data</h2>\n",
    "</div>"
   ]
  },
  {
   "cell_type": "code",
   "execution_count": 6,
   "metadata": {},
   "outputs": [
    {
     "data": {
      "text/plain": [
       "(17, 109)"
      ]
     },
     "execution_count": 6,
     "metadata": {},
     "output_type": "execute_result"
    }
   ],
   "source": [
    "category_level_1_unique = df['category_level_1'].unique()\n",
    "category_level_2_unique = df['category_level_2'].unique()\n",
    "df.category_level_1.nunique(), df.category_level_2.nunique()"
   ]
  },
  {
   "cell_type": "code",
   "execution_count": 7,
   "metadata": {},
   "outputs": [
    {
     "name": "stdout",
     "output_type": "stream",
     "text": [
      "category_level_1_unique = 17\n"
     ]
    },
    {
     "data": {
      "text/plain": [
       "array(['crime, law and justice', 'arts, culture, entertainment and media',\n",
       "       'economy, business and finance',\n",
       "       'disaster, accident and emergency incident', 'environment',\n",
       "       'education', 'health', 'human interest', 'lifestyle and leisure',\n",
       "       'politics', 'labour', 'religion and belief',\n",
       "       'science and technology', 'society', 'sport',\n",
       "       'conflict, war and peace', 'weather'], dtype=object)"
      ]
     },
     "execution_count": 7,
     "metadata": {},
     "output_type": "execute_result"
    }
   ],
   "source": [
    "print('category_level_1_unique =', len(category_level_1_unique))\n",
    "category_level_1_unique"
   ]
  },
  {
   "cell_type": "code",
   "execution_count": 8,
   "metadata": {},
   "outputs": [
    {
     "name": "stdout",
     "output_type": "stream",
     "text": [
      "category_level_2_unique = 109\n"
     ]
    },
    {
     "data": {
      "text/plain": [
       "array(['crime', 'justice', 'arts and entertainment', 'mass media',\n",
       "       'culture', 'law', 'law enforcement', 'economy',\n",
       "       'market and exchange', 'business information', 'economic sector',\n",
       "       'disaster', 'climate change', 'natural resources', 'school',\n",
       "       'religious education', 'teaching and learning', 'judiciary',\n",
       "       'accident and emergency incident', 'emergency response',\n",
       "       'parent organisation', 'social learning', 'vocational education',\n",
       "       'conservation', 'environmental politics',\n",
       "       'environmental pollution', 'nature', 'diseases and conditions',\n",
       "       'health facility', 'health treatment', 'non-human diseases',\n",
       "       'ceremony', 'accomplishment', 'anniversary', 'people', 'animal',\n",
       "       'plant', 'exercise and fitness', 'leisure', 'election',\n",
       "       'lifestyle', 'retirement', 'religious text', 'biomedical science',\n",
       "       'employment', 'labour market', 'labour relations',\n",
       "       'political crisis', 'political dissent', 'fundamental rights',\n",
       "       'government', 'international relations', 'religious conflict',\n",
       "       'religious event', 'religious facilities', 'mathematics',\n",
       "       'natural science', 'scientific research', 'religious leader',\n",
       "       'social sciences', 'health organisations', 'healthcare policy',\n",
       "       'immigration', 'emigration', 'demographics', 'discrimination',\n",
       "       'family', 'drug use in sport', 'bodybuilding', 'sport event',\n",
       "       'act of terror', 'armed conflict', 'civil unrest', 'massacre',\n",
       "       'peace process', 'prisoners of war', 'weather forecast',\n",
       "       'transfer', \"coup d'etat\", 'post-war reconstruction',\n",
       "       'communities', 'welfare', 'social problem', 'values',\n",
       "       'weather phenomena', 'religious belief', 'weather warning',\n",
       "       'weather statistic', 'sport venue', 'unemployment', 'unions',\n",
       "       'competition discipline', 'medical profession',\n",
       "       'disciplinary action in sport', 'technology and engineering',\n",
       "       'sport organisation', 'sport industry', 'employment legislation',\n",
       "       'interreligious dialogue', 'mankind', 'government policy',\n",
       "       'non-governmental organisation', 'scientific standards',\n",
       "       'social condition', 'political process',\n",
       "       'religious institutions and state relations',\n",
       "       'scientific institution', 'emergency incident',\n",
       "       'emergency planning'], dtype=object)"
      ]
     },
     "execution_count": 8,
     "metadata": {},
     "output_type": "execute_result"
    }
   ],
   "source": [
    "print('category_level_2_unique =', len(category_level_2_unique))\n",
    "category_level_2_unique"
   ]
  },
  {
   "cell_type": "code",
   "execution_count": 9,
   "metadata": {},
   "outputs": [
    {
     "data": {
      "text/plain": [
       "category_level_1\n",
       "lifestyle and leisure                         300\n",
       "arts, culture, entertainment and media        300\n",
       "economy, business and finance                 400\n",
       "weather                                       400\n",
       "disaster, accident and emergency incident     500\n",
       "crime, law and justice                        500\n",
       "human interest                                600\n",
       "environment                                   600\n",
       "education                                     607\n",
       "health                                        700\n",
       "labour                                        703\n",
       "science and technology                        800\n",
       "religion and belief                           800\n",
       "conflict, war and peace                       800\n",
       "politics                                      900\n",
       "sport                                         907\n",
       "society                                      1100\n",
       "Name: count, dtype: int64"
      ]
     },
     "execution_count": 9,
     "metadata": {},
     "output_type": "execute_result"
    }
   ],
   "source": [
    "# df['category_level_1'].value_counts().sort_index()\n",
    "df['category_level_1'].value_counts().sort_values(ascending=True)"
   ]
  },
  {
   "cell_type": "code",
   "execution_count": 10,
   "metadata": {},
   "outputs": [
    {
     "data": {
      "text/plain": [
       "category_level_2\n",
       "religious belief                              100\n",
       "law                                           100\n",
       "law enforcement                               100\n",
       "economy                                       100\n",
       "market and exchange                           100\n",
       "business information                          100\n",
       "economic sector                               100\n",
       "disaster                                      100\n",
       "climate change                                100\n",
       "natural resources                             100\n",
       "religious education                           100\n",
       "teaching and learning                         100\n",
       "judiciary                                     100\n",
       "accident and emergency incident               100\n",
       "emergency response                            100\n",
       "parent organisation                           100\n",
       "social learning                               100\n",
       "conservation                                  100\n",
       "environmental politics                        100\n",
       "environmental pollution                       100\n",
       "nature                                        100\n",
       "mathematics                                   100\n",
       "natural science                               100\n",
       "religious facilities                          100\n",
       "culture                                       100\n",
       "mass media                                    100\n",
       "arts and entertainment                        100\n",
       "diseases and conditions                       100\n",
       "accomplishment                                100\n",
       "anniversary                                   100\n",
       "people                                        100\n",
       "animal                                        100\n",
       "plant                                         100\n",
       "exercise and fitness                          100\n",
       "leisure                                       100\n",
       "election                                      100\n",
       "lifestyle                                     100\n",
       "non-human diseases                            100\n",
       "retirement                                    100\n",
       "religious leader                              100\n",
       "biomedical science                            100\n",
       "political crisis                              100\n",
       "political dissent                             100\n",
       "fundamental rights                            100\n",
       "government                                    100\n",
       "international relations                       100\n",
       "religious conflict                            100\n",
       "religious event                               100\n",
       "justice                                       100\n",
       "religious text                                100\n",
       "health treatment                              100\n",
       "health facility                               100\n",
       "labour relations                              100\n",
       "ceremony                                      100\n",
       "emergency planning                            100\n",
       "weather statistic                             100\n",
       "healthcare policy                             100\n",
       "immigration                                   100\n",
       "emigration                                    100\n",
       "demographics                                  100\n",
       "discrimination                                100\n",
       "family                                        100\n",
       "drug use in sport                             100\n",
       "bodybuilding                                  100\n",
       "social problem                                100\n",
       "sport event                                   100\n",
       "crime                                         100\n",
       "armed conflict                                100\n",
       "civil unrest                                  100\n",
       "massacre                                      100\n",
       "peace process                                 100\n",
       "prisoners of war                              100\n",
       "weather forecast                              100\n",
       "coup d'etat                                   100\n",
       "post-war reconstruction                       100\n",
       "communities                                   100\n",
       "act of terror                                 100\n",
       "weather warning                               100\n",
       "social sciences                               100\n",
       "health organisations                          100\n",
       "values                                        100\n",
       "sport venue                                   100\n",
       "unemployment                                  100\n",
       "unions                                        100\n",
       "competition discipline                        100\n",
       "medical profession                            100\n",
       "disciplinary action in sport                  100\n",
       "technology and engineering                    100\n",
       "sport organisation                            100\n",
       "welfare                                       100\n",
       "employment legislation                        100\n",
       "interreligious dialogue                       100\n",
       "sport industry                                100\n",
       "government policy                             100\n",
       "non-governmental organisation                 100\n",
       "scientific standards                          100\n",
       "social condition                              100\n",
       "political process                             100\n",
       "religious institutions and state relations    100\n",
       "scientific institution                        100\n",
       "emergency incident                            100\n",
       "weather phenomena                             100\n",
       "scientific research                           100\n",
       "mankind                                       100\n",
       "labour market                                 101\n",
       "school                                        101\n",
       "employment                                    102\n",
       "vocational education                          106\n",
       "transfer                                      107\n",
       "Name: count, dtype: int64"
      ]
     },
     "execution_count": 10,
     "metadata": {},
     "output_type": "execute_result"
    }
   ],
   "source": [
    "df['category_level_2'].value_counts().sort_values(ascending=True)"
   ]
  },
  {
   "cell_type": "markdown",
   "metadata": {},
   "source": [
    "<div style=\"text-align: center;\">\n",
    "    <h2>Visualizing the Data</h2>\n",
    "</div>"
   ]
  },
  {
   "cell_type": "code",
   "execution_count": 11,
   "metadata": {},
   "outputs": [
    {
     "data": {
      "image/png": "[encoded data removed]",
      "text/plain": [
       "<Figure size 1200x600 with 1 Axes>"
      ]
     },
     "metadata": {},
     "output_type": "display_data"
    }
   ],
   "source": [
    "plt.figure(figsize=(12, 6))\n",
    "sns.countplot(data=df, y='category_level_1', order=df['category_level_1'].value_counts().index)\n",
    "plt.title('Distribution of Category Level 1')\n",
    "plt.xlabel('Count')\n",
    "plt.ylabel('Category Level 1')\n",
    "plt.show()\n"
   ]
  }
 ],
 "metadata": {
  "kernelspec": {
   "display_name": "tf",
   "language": "python",
   "name": "python3"
  },
  "language_info": {
   "codemirror_mode": {
    "name": "ipython",
    "version": 3
   },
   "file_extension": ".py",
   "mimetype": "text/x-python",
   "name": "python",
   "nbconvert_exporter": "python",
   "pygments_lexer": "ipython3",
   "version": "3.10.15"
  }
 },
 "nbformat": 4,
 "nbformat_minor": 4
}
