{
 "cells": [
  {
   "cell_type": "code",
   "execution_count": 5,
   "metadata": {},
   "outputs": [],
   "source": [
    "import pandas as pd\n",
    "import numpy as np\n",
    "import re\n",
    "import string\n",
    "from nltk.corpus import stopwords\n",
    "from nltk.stem import PorterStemmer, WordNetLemmatizer\n",
    "from nltk.tokenize import sent_tokenize, word_tokenize\n",
    "from sklearn.model_selection import train_test_split\n",
    "from sklearn.feature_extraction.text import TfidfVectorizer\n",
    "from sklearn.naive_bayes import MultinomialNB\n",
    "from sklearn.metrics import classification_report, accuracy_score, confusion_matrix\n",
    "import nltk\n",
    "import joblib\n",
    "pd.set_option('display.max_rows', None)\n",
    "pd.set_option('display.max_colwidth', None)\n",
    "pd.set_option('display.width', None)"
   ]
  },
  {
   "cell_type": "code",
   "execution_count": 6,
   "metadata": {},
   "outputs": [
    {
     "data": {
      "text/plain": [
       "True"
      ]
     },
     "execution_count": 6,
     "metadata": {},
     "output_type": "execute_result"
    }
   ],
   "source": [
    "nltk.download('punkt',quiet=True)\n",
    "nltk.download('stopwords',quiet=True)\n",
    "nltk.download('wordnet',quiet=True)"
   ]
  },
  {
   "cell_type": "code",
   "execution_count": 7,
   "metadata": {},
   "outputs": [],
   "source": [
    "df = pd.read_csv('MN-DS-news-classification.csv')"
   ]
  },
  {
   "cell_type": "code",
   "execution_count": 8,
   "metadata": {},
   "outputs": [],
   "source": [
    "default_stemmer = PorterStemmer()\n",
    "BAD_SYMBOLS_RE = re.compile(\"[^a-zA-Z,\\d]\")\n",
    "REPLACE_IP_ADDRESS = re.compile(r'\\b(?:[0-9]{1,3}\\.){3}[0-9]{1,3}\\b')\n",
    "REPLACE_BY_SPACE_RE = re.compile('[/(){}\\[\\]\\|@,;]')\n",
    "default_stopwords = stopwords.words('english')\n",
    "default_stopwords = default_stopwords + ['said', 'would','even','according','could','year',\n",
    "                                         'years','also','new','people','old,''one','two','time',\n",
    "                                         'first','last','say','make','best','get','three','make',\n",
    "                                         'year old','told','made','like','take','many','set','number',\n",
    "                                         'month','week','well','back']\n",
    "def clean_text(text):\n",
    "    def tokenize_text(text):\n",
    "        tokens = []\n",
    "        sentences = sent_tokenize(text)\n",
    "        for sentence in sentences:\n",
    "            words = word_tokenize(sentence)\n",
    "            for word in words:\n",
    "                if len(word) >= 3:\n",
    "                    tokens.append(word)\n",
    "        return tokens\n",
    "    def stem_text(text, stemmer=default_stemmer):\n",
    "        stemmed_tokens = []\n",
    "        tokens = tokenize_text(text)\n",
    "        for t in tokens:\n",
    "            stemmed_word = stemmer.stem(t) \n",
    "            stemmed_tokens.append(stemmed_word) \n",
    "        return ' '.join(stemmed_tokens)  \n",
    "\n",
    "    def preprocessing_text(text):\n",
    "        # text = text.lower()\n",
    "        text=text.replace('\\n',' ').replace('\\xa0',' ').replace('-',' ').replace('ó','o').replace('ğ','g').replace('á','a').replace(\"'\",\" \")\n",
    "        text=re.sub(r'\\d+','', text)\n",
    "        text=re.sub(r'http\\S+', '', text)\n",
    "        text=BAD_SYMBOLS_RE.sub(' ', text)\n",
    "        text=REPLACE_IP_ADDRESS.sub('', text)\n",
    "        text=REPLACE_BY_SPACE_RE.sub(' ', text)\n",
    "        # text=' '.join(word for word in text.split() if len(word)>3)\n",
    "        return text\n",
    "\n",
    "    def remove_special_characters(text, characters=string.punctuation.replace('-', '')):\n",
    "        tokens = tokenize_text(text)\n",
    "        pattern = re.compile('[{}]'.format(re.escape(characters + '0123456789')))\n",
    "        return ' '.join(filter(None, [pattern.sub('', t) for t in tokens]))\n",
    "\n",
    "    def lemm_text(text, lemm=WordNetLemmatizer()):\n",
    "        tokens = tokenize_text(text)\n",
    "        \n",
    "        return ' '.join([lemm.lemmatize(t,pos='n') for t in tokens])\n",
    "    \n",
    "    def remove_stopwords(text, stop_words=default_stopwords):\n",
    "        tokens = [w for w in tokenize_text(text) if w not in stop_words]\n",
    "        return ' '.join(tokens)\n",
    "    text = text.strip()\n",
    "    text = text.lower()\n",
    "    text = stem_text(text)\n",
    "    text = preprocessing_text(text)\n",
    "    text = remove_special_characters(text)\n",
    "    text = lemm_text(text)\n",
    "    text = remove_stopwords(text)\n",
    "    \n",
    "    return text"
   ]
  },
  {
   "cell_type": "code",
   "execution_count": 9,
   "metadata": {},
   "outputs": [],
   "source": [
    "df['text']= df[['title', 'content']].apply(lambda x: ' . '.join(x.astype(str)),axis=1)"
   ]
  },
  {
   "cell_type": "code",
   "execution_count": 10,
   "metadata": {},
   "outputs": [],
   "source": [
    "df['text']=df['text'].apply(clean_text)"
   ]
  },
  {
   "cell_type": "code",
   "execution_count": 16,
   "metadata": {},
   "outputs": [
    {
     "data": {
      "text/plain": [
       "0                                                                                                                                                                                                                                                                                                                                                                                                                                                                                                                                                                                                                                                                                                                                                                                                                                                                                                                                                                                                                                                                                                                                                                                                                                                                                                                                                                                                                                                                                                                                                                                                                                                                                                                                                                                                                                                                                                                                          virginia mom charg murder old son death virginia woman whose old son found trash inciner charg murder death hampton commonwealth attorney anton bell news confer thursday warrant issu old julia leanna tomlin charg unlaw dispos noah tomlin bodi bell skull fractur found toddler bodi indic level forc sever child fallen sever stori build julia tomlin report son miss june searcher sift landfil steam plant day befor bodi found juli tomlin alreadi jail charg count feloni child neglect prior report noah miss\n",
       "1    escap murder suspect arrest mexico border author tri determin anyon help inmat escap california jail travel hundr mile cross mexico befor captur tri walk unit state jonathan salazar santo fonseca arrest custom border protect offici port entri san ysidro nation largest border cross earli wednesday monterey counti sheriff offic capt john thornburg thornburg custodi monterey counti offici return jail salina farm citi peopl roughli mile kilomet south san francisco salazar fonseca escap sunday lockup salina climb hole ceil bathroom squeez hollow wall kick open hatch offici found jail issu jumpsuit outsid build inmat often wear cloth jumpsuit thornburg investig yet determin long work hole anyon help escap help report miss sunday thornburg author receiv tip pair born rais salina spot mexican border citi tijuana around mile kilomet south monterey counti alert feder offici cbp spokeswoman jacki wasiluk men present ani document citizen check law enforc databas border inspector want author pair mexico whi decid travel togeth sinc allegedli belong rival gang whi return unit state investig thornburg good news custodi thornburg salazar fonseca hous separ differ hous unit one escap thornburg offici alreadi secur improv jail provid detail befor spot tijuana investig receiv credibl tip employe motel marina mile kilomet jail author salazar check tuesday morn author found one room nearli eight hour standoff thornburg look salazar motel unfortun night custodi sinc await trial murder count numer feloni charg separ case salazar arrest shoot death old jaim martinez victim drove salina girlfriend old son woman shot treat hospit child hurt polic investig oct shoot gang rel offic tattoo includ letter cheek refer sure offshoot gang posada trece californian report trial schedul begin januari fonseca polic arrest homicid charg gang leader kill someon prove still loyal boronda boy subset norte gang detect gabriela contrera testifi fonseca charg shoot lorenzo gomez acosta death june victim sat car video call wife mexico californian report saw scuffl heard husband scream gunshot rang salina polic offic froylan aranda acosta reportedli chosen random day later fonseca shot kill ernesto garcia cruz salina park author polic gang leader order slay pick girlfriend boyfriend send messag contrera associ press journalist elliot spagat san diego contribut thi report\n",
       "2                                                                                                                                                                                                                                                                                                                                                                                                                                                                                                                                                                                                                                                                                                                                                                                                                                                                                                                                                                                                                                                                                                                                                                                                                                                                                                                                                                                                                                                                                                                                                                                                                                                                                                                                                                                                                                                                                                                                                                        famili turn escap boy suspect doubl murder old suspect doubl homicid escap custodi return author news outlet report teen mother nikki jacob turn marshal lumberton wednesday night teen escap juvenil court around noon tuesday wral report jacob son spent tuesday wednesday grandmoth old hous abandon found bike rode uncl home teen uncl wayn lambert allow boy shower eat befor call author teen old derrick deshawn hunt charg count degre murder kill brother found dead insid home\n",
       "3                                                                                                                                                                                                                                                                                                                                                                                                                                                                                                                                                                                                                                                                                                                                                                                                                                                                                                                                                                                                                                                                                                                                                                                                                                                                                                                                                                                                                                                                                                                                                                                                                                                                                                                                                                                                                                                                                                                                                                                                                                               mother charg murder death young child mother young child found hang pennsylvania home charg murder medic personnel reviv old boy old girl die day later autopsi inconclus coron forens test need befor rule caus manner death berk counti prosecutor announc lisa snyder arrest monday known retain attorney snyder author found child conner brinley albani home sept prosecutor detail arrest announc news confer\n",
       "4                                                                                                                                                                                                                                                                                                                                                                                                                                                                                                                                                                                                                                                                 physician father caretak old autist man found brutal murder one famili member derek violent attack rex past court document state famili member derek mother die ago rex care alon thi grisli stori offer anoth side shini happi portray autism dure april spokan washington widow physician age found brutal murder old preverb autist son live amid squalor appear son least suspect victim left alon home without life skill either version far cri spoon fed autism thi kind tragic stori repeat stori autist child wander drown parent age strong adult men woman autism rage futur may bleak harsh meanwhil allow seek awar cure true treatment love one must suffer lifetim autism god bless rex porter son derek detect investig death retir spokan anesthesiologist whose bodi found dismemb burn backyard dishman hill area home victim rex porter previous work provid sacr heart medic center caretak son derek porter autist nonverb accord court document live acr properti block south park lane near iller creek conserv area saturday neighbor call report porter car sit driveway day door open garag door left open spokan counti sheriff deputi respond sunday hous welfar check accord search warrant file tuesday spokan counti superior court deputi report see hous disarray look window includ broken glass floor attempt call rex porter unsuccess prompt deputi enter hous smell strong odor believ anim fece accord court document deputi continu search downstair basement found glass along blood damag item open door suddenli adult male stand front onli short shirt accord court document deputi detain individu believ squat hous accord court record bathroom toilet full fece sink held deputi thought remain dead anim court record state read spokesman com\n",
       "Name: text, dtype: object"
      ]
     },
     "execution_count": 16,
     "metadata": {},
     "output_type": "execute_result"
    }
   ],
   "source": [
    "df['text'][0:5]"
   ]
  },
  {
   "cell_type": "code",
   "execution_count": null,
   "metadata": {},
   "outputs": [],
   "source": []
  }
 ],
 "metadata": {
  "kernelspec": {
   "display_name": ".venv",
   "language": "python",
   "name": "python3"
  },
  "language_info": {
   "codemirror_mode": {
    "name": "ipython",
    "version": 3
   },
   "file_extension": ".py",
   "mimetype": "text/x-python",
   "name": "python",
   "nbconvert_exporter": "python",
   "pygments_lexer": "ipython3",
   "version": "3.10.0"
  }
 },
 "nbformat": 4,
 "nbformat_minor": 2
}
