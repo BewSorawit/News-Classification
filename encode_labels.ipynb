{
 "cells": [
  {
   "cell_type": "markdown",
   "metadata": {},
   "source": [
    "<div style=\"text-align: center;\">\n",
    "    <h2>LabelEncoder (แปลงป้ายชื่อเป็นตัวเลข)</h2>\n",
    "</div>"
   ]
  },
  {
   "cell_type": "code",
   "execution_count": 5,
   "metadata": {},
   "outputs": [
    {
     "name": "stdout",
     "output_type": "stream",
     "text": [
      "[0 1 2 0 1 2]\n"
     ]
    }
   ],
   "source": [
    "from sklearn.preprocessing import LabelEncoder\n",
    "\n",
    "fruits = ['apple', 'banana', 'cherry', 'apple', 'banana', 'cherry']\n",
    "\n",
    "le = LabelEncoder()\n",
    "\n",
    "le.fit(fruits)\n",
    "\n",
    "fruits_encoded = le.transform(fruits)\n",
    "\n",
    "print(fruits_encoded)\n"
   ]
  },
  {
   "cell_type": "code",
   "execution_count": 6,
   "metadata": {},
   "outputs": [
    {
     "name": "stdout",
     "output_type": "stream",
     "text": [
      "   color     shape  color_encoded  shape_encoded\n",
      "0    red    circle              2              0\n",
      "1   blue    square              0              1\n",
      "2  green  triangle              1              2\n",
      "3   blue    circle              0              0\n",
      "4    red    square              2              1\n"
     ]
    }
   ],
   "source": [
    "import pandas as pd\n",
    "from sklearn.preprocessing import LabelEncoder\n",
    "\n",
    "data = {\n",
    "    'color': ['red', 'blue', 'green', 'blue', 'red'],\n",
    "    'shape': ['circle', 'square', 'triangle', 'circle', 'square']\n",
    "}\n",
    "\n",
    "df = pd.DataFrame(data)\n",
    "\n",
    "le_color = LabelEncoder()\n",
    "le_shape = LabelEncoder()\n",
    "\n",
    "df['color_encoded'] = le_color.fit_transform(df['color'])\n",
    "df['shape_encoded'] = le_shape.fit_transform(df['shape'])\n",
    "\n",
    "print(df)\n"
   ]
  },
  {
   "cell_type": "code",
   "execution_count": null,
   "metadata": {},
   "outputs": [],
   "source": []
  }
 ],
 "metadata": {
  "kernelspec": {
   "display_name": ".venv",
   "language": "python",
   "name": "python3"
  },
  "language_info": {
   "codemirror_mode": {
    "name": "ipython",
    "version": 3
   },
   "file_extension": ".py",
   "mimetype": "text/x-python",
   "name": "python",
   "nbconvert_exporter": "python",
   "pygments_lexer": "ipython3",
   "version": "3.10.0"
  }
 },
 "nbformat": 4,
 "nbformat_minor": 2
}
