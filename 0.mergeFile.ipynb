{
 "cells": [
  {
   "cell_type": "code",
   "execution_count": 54,
   "metadata": {},
   "outputs": [],
   "source": [
    "import pandas as pd"
   ]
  },
  {
   "cell_type": "code",
   "execution_count": 55,
   "metadata": {},
   "outputs": [],
   "source": [
    "df1 = pd.read_csv('MN-DS-news-classification.csv')\n",
    "df2  = pd.read_csv('news-article-categories.csv')"
   ]
  },
  {
   "cell_type": "code",
   "execution_count": 56,
   "metadata": {},
   "outputs": [],
   "source": [
    "selected_categories = [\n",
    "    'arts, culture, entertainment and media',\n",
    "    'economy, business and finance',\n",
    "    'politics',\n",
    "    'science and technology',\n",
    "    'sport'\n",
    "]"
   ]
  },
  {
   "cell_type": "code",
   "execution_count": 57,
   "metadata": {},
   "outputs": [
    {
     "data": {
      "text/plain": [
       "Index(['data_id', 'id', 'date', 'source', 'title', 'content', 'author', 'url',\n",
       "       'published', 'published_utc', 'collection_utc', 'category_level_1',\n",
       "       'category_level_2'],\n",
       "      dtype='object')"
      ]
     },
     "execution_count": 57,
     "metadata": {},
     "output_type": "execute_result"
    }
   ],
   "source": [
    "df1.keys()"
   ]
  },
  {
   "cell_type": "code",
   "execution_count": 58,
   "metadata": {},
   "outputs": [
    {
     "data": {
      "text/plain": [
       "category_level_1\n",
       "sport                                     907\n",
       "politics                                  900\n",
       "science and technology                    800\n",
       "economy, business and finance             400\n",
       "arts, culture, entertainment and media    300\n",
       "Name: count, dtype: int64"
      ]
     },
     "execution_count": 58,
     "metadata": {},
     "output_type": "execute_result"
    }
   ],
   "source": [
    "df1 = df1[df1['category_level_1'].isin(selected_categories)]\n",
    "df1['category_level_1'].value_counts()"
   ]
  },
  {
   "cell_type": "code",
   "execution_count": 59,
   "metadata": {},
   "outputs": [
    {
     "data": {
      "text/plain": [
       "Index(['category', 'title', 'body'], dtype='object')"
      ]
     },
     "execution_count": 59,
     "metadata": {},
     "output_type": "execute_result"
    }
   ],
   "source": [
    "df2.keys()"
   ]
  },
  {
   "cell_type": "code",
   "execution_count": 60,
   "metadata": {},
   "outputs": [
    {
     "data": {
      "text/plain": [
       "category\n",
       "ARTS & CULTURE    1002\n",
       "BUSINESS           501\n",
       "ENTERTAINMENT      501\n",
       "ENVIRONMENT        501\n",
       "POLITICS           501\n",
       "RELIGION           501\n",
       "SPORTS             501\n",
       "TECH               501\n",
       "WOMEN              501\n",
       "EDUCATION          490\n",
       "COMEDY             380\n",
       "SCIENCE            350\n",
       "MEDIA              347\n",
       "CRIME              300\n",
       "Name: count, dtype: int64"
      ]
     },
     "execution_count": 60,
     "metadata": {},
     "output_type": "execute_result"
    }
   ],
   "source": [
    "df2['category'].value_counts()"
   ]
  },
  {
   "cell_type": "code",
   "execution_count": 61,
   "metadata": {},
   "outputs": [],
   "source": [
    "category_mapping = {\n",
    "    'ARTS & CULTURE': 'arts, culture, entertainment and media',\n",
    "    'BUSINESS': 'economy, business and finance',\n",
    "    'ENTERTAINMENT': 'arts, culture, entertainment and media',\n",
    "    'POLITICS': 'politics',\n",
    "    'RELIGION': 'arts, culture, entertainment and media',\n",
    "    'SPORTS': 'sport',\n",
    "    'TECH': 'science and technology',\n",
    "    'COMEDY': 'arts, culture, entertainment and media',\n",
    "    'SCIENCE': 'science and technology',\n",
    "    'MEDIA': 'arts, culture, entertainment and media',\n",
    "}"
   ]
  },
  {
   "cell_type": "code",
   "execution_count": 62,
   "metadata": {},
   "outputs": [],
   "source": [
    "df2['category'] = df2['category'].replace(category_mapping)"
   ]
  },
  {
   "cell_type": "code",
   "execution_count": 63,
   "metadata": {},
   "outputs": [],
   "source": [
    "df2.rename(columns={'category': 'category_level_1', 'body': 'content'}, inplace=True)"
   ]
  },
  {
   "cell_type": "code",
   "execution_count": 64,
   "metadata": {},
   "outputs": [],
   "source": [
    "df2_filtered = df2[df2['category_level_1'].isin(selected_categories)]"
   ]
  },
  {
   "cell_type": "code",
   "execution_count": 65,
   "metadata": {},
   "outputs": [
    {
     "data": {
      "text/plain": [
       "Index(['category_level_1', 'title', 'content'], dtype='object')"
      ]
     },
     "execution_count": 65,
     "metadata": {},
     "output_type": "execute_result"
    }
   ],
   "source": [
    "df2.keys()"
   ]
  },
  {
   "cell_type": "code",
   "execution_count": 66,
   "metadata": {},
   "outputs": [],
   "source": [
    "df_combined = pd.concat([df1, df2_filtered], ignore_index=True)"
   ]
  },
  {
   "cell_type": "code",
   "execution_count": 67,
   "metadata": {},
   "outputs": [],
   "source": [
    "df_combined_selected_columns = df_combined[['category_level_1', 'title', 'content']]"
   ]
  },
  {
   "cell_type": "code",
   "execution_count": 68,
   "metadata": {},
   "outputs": [],
   "source": [
    "df_combined_selected_columns.to_csv('combined_news_data.csv', index=False)\n"
   ]
  }
 ],
 "metadata": {
  "kernelspec": {
   "display_name": "tf",
   "language": "python",
   "name": "python3"
  },
  "language_info": {
   "codemirror_mode": {
    "name": "ipython",
    "version": 3
   },
   "file_extension": ".py",
   "mimetype": "text/x-python",
   "name": "python",
   "nbconvert_exporter": "python",
   "pygments_lexer": "ipython3",
   "version": "3.10.15"
  }
 },
 "nbformat": 4,
 "nbformat_minor": 2
}
