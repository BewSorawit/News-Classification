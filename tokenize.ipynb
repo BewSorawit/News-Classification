{
 "cells": [
  {
   "cell_type": "code",
   "execution_count": 7,
   "metadata": {},
   "outputs": [
    {
     "data": {
      "text/plain": [
       "True"
      ]
     },
     "execution_count": 7,
     "metadata": {},
     "output_type": "execute_result"
    }
   ],
   "source": [
    "import nltk  # type: ignore\n",
    "from nltk.tokenize import sent_tokenize, word_tokenize # type: ignore\n",
    "from nltk.stem import PorterStemmer, LancasterStemmer, WordNetLemmatizer# type: ignore\n",
    "nltk.download('punkt', quiet=True)\n",
    "nltk.download('omw-1.4',quiet=True)"
   ]
  },
  {
   "cell_type": "markdown",
   "metadata": {},
   "source": [
    "\n",
    "<div style=\"text-align: center;\">\n",
    "    <h2>sent_tokenize (การเเบ่งข้อความเป็นประโยค)</h2>\n",
    "</div>"
   ]
  },
  {
   "cell_type": "code",
   "execution_count": 8,
   "metadata": {},
   "outputs": [
    {
     "name": "stdout",
     "output_type": "stream",
     "text": [
      "Sentence 1: Hello!\n",
      "Sentence 2: My name is ChatGPT.\n",
      "Sentence 3: I can help you with various tasks.\n",
      "Sentence 4: Are you interested in natural language processing?\n",
      "Sentence 5: Let's get started.\n"
     ]
    }
   ],
   "source": [
    "text = \"\"\"Hello! My name is ChatGPT. I can help you with various tasks.\n",
    "Are you interested in natural language processing? Let's get started.\"\"\"\n",
    "\n",
    "sentences = sent_tokenize(text)\n",
    "\n",
    "for idx, sentence in enumerate(sentences, 1):\n",
    "    print(f\"Sentence {idx}: {sentence}\")\n"
   ]
  },
  {
   "cell_type": "markdown",
   "metadata": {},
   "source": [
    "<div style=\"text-align: center;\">\n",
    "    <h2>word_tokenize (การแบ่งข้อความเป็นคำ)</h2>\n",
    "</div>"
   ]
  },
  {
   "cell_type": "code",
   "execution_count": 9,
   "metadata": {},
   "outputs": [
    {
     "name": "stdout",
     "output_type": "stream",
     "text": [
      "['Hello', '!', 'My', 'name', 'is', 'ChatGPT', '.', 'I', 'can', 'help', 'you', 'with', 'various', 'tasks', '.']\n"
     ]
    }
   ],
   "source": [
    "text = \"Hello! My name is ChatGPT. I can help you with various tasks.\"\n",
    "\n",
    "tokens = word_tokenize(text)\n",
    "\n",
    "print(tokens)"
   ]
  },
  {
   "cell_type": "markdown",
   "metadata": {},
   "source": [
    "<div style=\"text-align: center;\">\n",
    "    <h2>PorterStemmer (การลดรูปคำ)</h2>\n",
    "</div>"
   ]
  },
  {
   "cell_type": "code",
   "execution_count": 10,
   "metadata": {},
   "outputs": [
    {
     "name": "stdout",
     "output_type": "stream",
     "text": [
      "Original Words:  ['running', 'ran', 'runner', 'easily', 'fairly', 'cats', 'happily', 'happiness']\n",
      "Stemmed Words:  ['run', 'ran', 'runner', 'easili', 'fairli', 'cat', 'happili', 'happi']\n"
     ]
    }
   ],
   "source": [
    "stemmer = PorterStemmer()\n",
    "\n",
    "words = [\"running\", \"ran\", \"runner\", \"easily\", \"fairly\", \"cats\", \"happily\", \"happiness\"]\n",
    "\n",
    "stems = [stemmer.stem(word) for word in words]\n",
    "\n",
    "print(\"Original Words: \", words)\n",
    "print(\"Stemmed Words: \", stems)\n"
   ]
  },
  {
   "cell_type": "markdown",
   "metadata": {},
   "source": [
    "<div style=\"text-align: center;\">\n",
    "    <h2>LancasterStemmer (การลดรูปคำ)</h2>\n",
    "</div>"
   ]
  },
  {
   "cell_type": "code",
   "execution_count": 11,
   "metadata": {},
   "outputs": [
    {
     "name": "stdout",
     "output_type": "stream",
     "text": [
      "Original Words:  ['running', 'ran', 'runner', 'easily', 'fairly', 'cats', 'happily', 'happiness']\n",
      "Stemmed Words:  ['run', 'ran', 'run', 'easy', 'fair', 'cat', 'happy', 'happy']\n"
     ]
    }
   ],
   "source": [
    "lancaster_stemmer = LancasterStemmer()\n",
    "\n",
    "words = [\"running\", \"ran\", \"runner\", \"easily\", \"fairly\", \"cats\", \"happily\", \"happiness\"]\n",
    "\n",
    "lancaster_stems = [lancaster_stemmer.stem(word) for word in words]\n",
    "\n",
    "print(\"Original Words: \", words)\n",
    "print(\"Stemmed Words: \", lancaster_stems)\n"
   ]
  },
  {
   "cell_type": "markdown",
   "metadata": {},
   "source": [
    "<div style=\"text-align: center;\">\n",
    "    <h2>WordNetLemmatizer (การลดรูปคำ)</h2>\n",
    "</div>"
   ]
  },
  {
   "cell_type": "code",
   "execution_count": 12,
   "metadata": {},
   "outputs": [
    {
     "name": "stdout",
     "output_type": "stream",
     "text": [
      "Original Words:  ['running', 'ran', 'better', 'happily', 'cats', 'child', 'children', 'fishing', 'fished']\n",
      "Lemmatized Words:  ['run', 'run', 'better', 'happily', 'cat', 'child', 'child', 'fish', 'fish']\n"
     ]
    }
   ],
   "source": [
    "lemmatizer = WordNetLemmatizer()\n",
    "lemmatized_words = []\n",
    "\n",
    "words = [\"running\", \"ran\", \"better\", \"happily\", \"cats\", \"child\", \"children\", \"fishing\", \"fished\"]\n",
    "for word in words:\n",
    "    if word in [\"running\", \"ran\", \"fishing\", \"fished\"]:\n",
    "        lemmatized_word = lemmatizer.lemmatize(word, pos='v')\n",
    "        # v: verb, n: noun, a: adj, r: adverb\n",
    "    else:\n",
    "        lemmatized_word = lemmatizer.lemmatize(word)\n",
    "    \n",
    "    lemmatized_words.append(lemmatized_word)\n",
    "\n",
    "print(\"Original Words: \", words)\n",
    "print(\"Lemmatized Words: \", lemmatized_words)"
   ]
  },
  {
   "cell_type": "code",
   "execution_count": null,
   "metadata": {},
   "outputs": [],
   "source": []
  }
 ],
 "metadata": {
  "kernelspec": {
   "display_name": ".venv",
   "language": "python",
   "name": "python3"
  },
  "language_info": {
   "codemirror_mode": {
    "name": "ipython",
    "version": 3
   },
   "file_extension": ".py",
   "mimetype": "text/x-python",
   "name": "python",
   "nbconvert_exporter": "python",
   "pygments_lexer": "ipython3",
   "version": "3.10.0"
  }
 },
 "nbformat": 4,
 "nbformat_minor": 2
}
